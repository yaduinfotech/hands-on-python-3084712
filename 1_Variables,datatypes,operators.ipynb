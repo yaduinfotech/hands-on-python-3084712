{
  "cells": [
    {
      "cell_type": "markdown",
      "metadata": {
        "id": "view-in-github",
        "colab_type": "text"
      },
      "source": [
        "<a href=\"https://colab.research.google.com/github/yaduinfotech/hands-on-python-3084712/blob/main/1_Variables%2Cdatatypes%2Coperators.ipynb\" target=\"_parent\"><img src=\"https://colab.research.google.com/assets/colab-badge.svg\" alt=\"Open In Colab\"/></a>"
      ]
    },
    {
      "cell_type": "code",
      "execution_count": null,
      "id": "e07c48cc",
      "metadata": {
        "id": "e07c48cc"
      },
      "outputs": [],
      "source": [
        "# Difining a Variable\n",
        "# Variable Name can be start with _ or alphabet and its case sensitive\n",
        "\n",
        "a = 10        # Auto Detect Variable Type (Int)\n",
        "b = 9.8       # Auto Detect Variable Type (Float)\n",
        "c = \"çoder\"   # Auto Detect Variable Type (String)\n",
        "d = 6>5       # Auto Detect Variable Type (Bool)\n",
        "e= 5+7j       # Auto Detect Variable Type (Complex)\n",
        "\n",
        "type(a) # Will return the type of variable i.e. in this case - int\n",
        "type(b) # Will return the type of variable i.e. in this case - float\n",
        "type(c) # Will return the type of variable i.e. in this case - str\n",
        "type(d) # Will return the type of variable i.e. in this case - bool\n",
        "type(e) # Will return the type of variable i.e. in this case - complex\n",
        "\n",
        "print(a) # Will Print Value of a / print is system function (print(variable,))\n",
        "\n"
      ]
    },
    {
      "cell_type": "code",
      "execution_count": null,
      "id": "e220a673",
      "metadata": {
        "id": "e220a673",
        "outputId": "74030ffe-6587-44f6-96ae-af376f2e7d88"
      },
      "outputs": [
        {
          "data": {
            "text/plain": [
              "int"
            ]
          },
          "execution_count": 2,
          "metadata": {},
          "output_type": "execute_result"
        }
      ],
      "source": []
    },
    {
      "cell_type": "code",
      "execution_count": null,
      "id": "d30d186b",
      "metadata": {
        "id": "d30d186b",
        "outputId": "5b8518ae-1338-4947-aa2e-5a56bbbe0ab7"
      },
      "outputs": [
        {
          "name": "stdout",
          "output_type": "stream",
          "text": [
            "10\n"
          ]
        }
      ],
      "source": []
    },
    {
      "cell_type": "code",
      "execution_count": null,
      "id": "887bc4c1",
      "metadata": {
        "id": "887bc4c1",
        "outputId": "1abc7e13-c5ac-421c-edd3-504359a8de82"
      },
      "outputs": [
        {
          "ename": "NameError",
          "evalue": "name 'B' is not defined",
          "output_type": "error",
          "traceback": [
            "\u001b[1;31m---------------------------------------------------------------------------\u001b[0m",
            "\u001b[1;31mNameError\u001b[0m                                 Traceback (most recent call last)",
            "Cell \u001b[1;32mIn[4], line 2\u001b[0m\n\u001b[0;32m      1\u001b[0m b\u001b[38;5;241m=\u001b[39m\u001b[38;5;241m9.8\u001b[39m\n\u001b[1;32m----> 2\u001b[0m \u001b[38;5;28mprint\u001b[39m(B)\n",
            "\u001b[1;31mNameError\u001b[0m: name 'B' is not defined"
          ]
        }
      ],
      "source": [
        "b=9.8\n",
        "print(B)"
      ]
    },
    {
      "cell_type": "code",
      "execution_count": null,
      "id": "b24eeb12",
      "metadata": {
        "id": "b24eeb12",
        "outputId": "c9933457-f5c4-475c-840e-78cc8795909e"
      },
      "outputs": [
        {
          "name": "stdout",
          "output_type": "stream",
          "text": [
            "9.8\n"
          ]
        }
      ],
      "source": [
        "print(b)"
      ]
    },
    {
      "cell_type": "code",
      "execution_count": null,
      "id": "23343935",
      "metadata": {
        "id": "23343935",
        "outputId": "7e2accc5-1edc-40b1-db22-a904f2c54e42"
      },
      "outputs": [
        {
          "data": {
            "text/plain": [
              "float"
            ]
          },
          "execution_count": 6,
          "metadata": {},
          "output_type": "execute_result"
        }
      ],
      "source": [
        "type(b)"
      ]
    },
    {
      "cell_type": "code",
      "execution_count": null,
      "id": "4c41e72b",
      "metadata": {
        "id": "4c41e72b"
      },
      "outputs": [],
      "source": [
        "c=\"çoder\""
      ]
    },
    {
      "cell_type": "code",
      "execution_count": null,
      "id": "60e63ad4",
      "metadata": {
        "id": "60e63ad4",
        "outputId": "ce5ad170-e051-4e02-d64d-98514cc542ed"
      },
      "outputs": [
        {
          "name": "stdout",
          "output_type": "stream",
          "text": [
            "çoder\n"
          ]
        }
      ],
      "source": [
        "print(c)"
      ]
    },
    {
      "cell_type": "code",
      "execution_count": null,
      "id": "266ddd00",
      "metadata": {
        "id": "266ddd00",
        "outputId": "b4ae35bf-875d-4fba-b7f4-02e571e802bf"
      },
      "outputs": [
        {
          "data": {
            "text/plain": [
              "str"
            ]
          },
          "execution_count": 12,
          "metadata": {},
          "output_type": "execute_result"
        }
      ],
      "source": [
        "type(c)"
      ]
    },
    {
      "cell_type": "code",
      "execution_count": null,
      "id": "aa765a42",
      "metadata": {
        "id": "aa765a42",
        "outputId": "733d9cf4-c62d-40a3-8605-9a056ac3b42b"
      },
      "outputs": [
        {
          "data": {
            "text/plain": [
              "True"
            ]
          },
          "execution_count": 13,
          "metadata": {},
          "output_type": "execute_result"
        }
      ],
      "source": [
        "#boolean\n",
        "6>5"
      ]
    },
    {
      "cell_type": "code",
      "execution_count": null,
      "id": "dffd2b93",
      "metadata": {
        "id": "dffd2b93",
        "outputId": "c5bf8a6d-1330-4007-cf2f-ad67a2c21c0e"
      },
      "outputs": [
        {
          "data": {
            "text/plain": [
              "False"
            ]
          },
          "execution_count": 14,
          "metadata": {},
          "output_type": "execute_result"
        }
      ],
      "source": [
        "1>100"
      ]
    },
    {
      "cell_type": "code",
      "execution_count": null,
      "id": "4e155dd7",
      "metadata": {
        "id": "4e155dd7",
        "outputId": "e99ac6dd-4681-4328-d888-d691467786b2"
      },
      "outputs": [
        {
          "data": {
            "text/plain": [
              "bool"
            ]
          },
          "execution_count": 15,
          "metadata": {},
          "output_type": "execute_result"
        }
      ],
      "source": [
        "type(1>100)"
      ]
    },
    {
      "cell_type": "code",
      "execution_count": null,
      "id": "4721e091",
      "metadata": {
        "id": "4721e091"
      },
      "outputs": [],
      "source": [
        "#complex number (Combination of real and imaginary number)\n",
        "var1= 5+7j"
      ]
    },
    {
      "cell_type": "code",
      "execution_count": null,
      "id": "16361621",
      "metadata": {
        "id": "16361621",
        "outputId": "d521ba51-82cf-411c-c5c0-5a66c1612c2a"
      },
      "outputs": [
        {
          "data": {
            "text/plain": [
              "complex"
            ]
          },
          "execution_count": 17,
          "metadata": {},
          "output_type": "execute_result"
        }
      ],
      "source": [
        "type(var1)"
      ]
    },
    {
      "cell_type": "code",
      "execution_count": null,
      "id": "74377863",
      "metadata": {
        "id": "74377863"
      },
      "outputs": [],
      "source": [
        "# list\n",
        "l=[5,6,7,8.5,'python']"
      ]
    },
    {
      "cell_type": "code",
      "execution_count": null,
      "id": "91a166c2",
      "metadata": {
        "id": "91a166c2",
        "outputId": "8ec19db4-65fc-4ddb-c6d2-baf411f4da3e"
      },
      "outputs": [
        {
          "name": "stdout",
          "output_type": "stream",
          "text": [
            "[5, 6, 7, 8.5, 'python']\n"
          ]
        }
      ],
      "source": [
        "print(l)"
      ]
    },
    {
      "cell_type": "code",
      "execution_count": null,
      "id": "42334682",
      "metadata": {
        "id": "42334682",
        "outputId": "1cd8233f-5070-4506-9452-7d318f82685d"
      },
      "outputs": [
        {
          "data": {
            "text/plain": [
              "list"
            ]
          },
          "execution_count": 26,
          "metadata": {},
          "output_type": "execute_result"
        }
      ],
      "source": [
        "type(l)"
      ]
    },
    {
      "cell_type": "code",
      "execution_count": null,
      "id": "05907f91",
      "metadata": {
        "id": "05907f91"
      },
      "outputs": [],
      "source": [
        "#tuple\n",
        "tup=(4,5,6.5,'python')"
      ]
    },
    {
      "cell_type": "code",
      "execution_count": null,
      "id": "00768ac7",
      "metadata": {
        "id": "00768ac7",
        "outputId": "4d741b2f-3b1f-4a08-f6c8-442d1b8342d3"
      },
      "outputs": [
        {
          "name": "stdout",
          "output_type": "stream",
          "text": [
            "(4, 5, 6.5, 'python')\n"
          ]
        }
      ],
      "source": [
        "print(tup)"
      ]
    },
    {
      "cell_type": "code",
      "execution_count": null,
      "id": "cf92f6e1",
      "metadata": {
        "id": "cf92f6e1",
        "outputId": "cd2637c0-e9fc-45c5-8aef-e12076769907"
      },
      "outputs": [
        {
          "data": {
            "text/plain": [
              "tuple"
            ]
          },
          "execution_count": 31,
          "metadata": {},
          "output_type": "execute_result"
        }
      ],
      "source": [
        "type(tup)"
      ]
    },
    {
      "cell_type": "code",
      "execution_count": null,
      "id": "4ea06230",
      "metadata": {
        "id": "4ea06230"
      },
      "outputs": [],
      "source": [
        "#Dictionary :{key:value} pair\n",
        "d = {\"python\":3.8,'b':10,8:'programming'}"
      ]
    },
    {
      "cell_type": "code",
      "execution_count": null,
      "id": "a244297e",
      "metadata": {
        "id": "a244297e",
        "outputId": "ed4b6e84-4704-4cbd-985a-395ec4584bd6"
      },
      "outputs": [
        {
          "name": "stdout",
          "output_type": "stream",
          "text": [
            "{'python': 3.8, 'b': 10, 8: 'programming'}\n"
          ]
        }
      ],
      "source": [
        "print(d)"
      ]
    },
    {
      "cell_type": "code",
      "execution_count": null,
      "id": "17fcc114",
      "metadata": {
        "id": "17fcc114",
        "outputId": "991ffc7d-097f-4db0-fe85-69d322b0972b"
      },
      "outputs": [
        {
          "data": {
            "text/plain": [
              "dict"
            ]
          },
          "execution_count": 34,
          "metadata": {},
          "output_type": "execute_result"
        }
      ],
      "source": [
        "type(d)"
      ]
    },
    {
      "cell_type": "code",
      "execution_count": null,
      "id": "0bc3e619",
      "metadata": {
        "id": "0bc3e619",
        "outputId": "b09a1180-5dc7-4567-ad73-93f2a7d92752"
      },
      "outputs": [
        {
          "data": {
            "text/plain": [
              "dict_keys(['python', 'b', 8])"
            ]
          },
          "execution_count": 35,
          "metadata": {},
          "output_type": "execute_result"
        }
      ],
      "source": [
        "d.keys()"
      ]
    },
    {
      "cell_type": "code",
      "execution_count": null,
      "id": "7db965fc",
      "metadata": {
        "id": "7db965fc",
        "outputId": "c8a16e9e-fb31-4cb0-8a5f-3c9c85a374f3"
      },
      "outputs": [
        {
          "data": {
            "text/plain": [
              "dict_values([3.8, 10, 'programming'])"
            ]
          },
          "execution_count": 36,
          "metadata": {},
          "output_type": "execute_result"
        }
      ],
      "source": [
        "d.values()"
      ]
    },
    {
      "cell_type": "code",
      "execution_count": null,
      "id": "2c4092ce",
      "metadata": {
        "id": "2c4092ce",
        "outputId": "b27d15e3-f93e-4924-e5a0-01da9e55146d"
      },
      "outputs": [
        {
          "data": {
            "text/plain": [
              "10"
            ]
          },
          "execution_count": 37,
          "metadata": {},
          "output_type": "execute_result"
        }
      ],
      "source": [
        "d['b']"
      ]
    },
    {
      "cell_type": "code",
      "execution_count": null,
      "id": "5882b0d0",
      "metadata": {
        "id": "5882b0d0"
      },
      "outputs": [],
      "source": [
        "#set\n",
        "#similar to dict but does not hold key value pair\n",
        "s ={4,8,10,4}"
      ]
    },
    {
      "cell_type": "code",
      "execution_count": null,
      "id": "151bacf1",
      "metadata": {
        "id": "151bacf1",
        "outputId": "dab22a19-c06e-4c37-e063-c198c1c984a1"
      },
      "outputs": [
        {
          "data": {
            "text/plain": [
              "set"
            ]
          },
          "execution_count": 44,
          "metadata": {},
          "output_type": "execute_result"
        }
      ],
      "source": [
        "type(s)"
      ]
    },
    {
      "cell_type": "code",
      "execution_count": null,
      "id": "2280b4fa",
      "metadata": {
        "id": "2280b4fa",
        "outputId": "b5f8ac6d-a9b5-47e1-d911-feb72cc30b8d"
      },
      "outputs": [
        {
          "name": "stdout",
          "output_type": "stream",
          "text": [
            "{8, 10, 4}\n"
          ]
        }
      ],
      "source": [
        "print(s)"
      ]
    },
    {
      "cell_type": "code",
      "execution_count": null,
      "id": "ec42633c",
      "metadata": {
        "id": "ec42633c"
      },
      "outputs": [],
      "source": [
        "d = {\"python\" :3.8,'b':10 ,8:s}"
      ]
    },
    {
      "cell_type": "code",
      "execution_count": null,
      "id": "22926c06",
      "metadata": {
        "id": "22926c06",
        "outputId": "9780a6cb-2388-4c35-f4a3-9d9ccfb1528e"
      },
      "outputs": [
        {
          "name": "stdout",
          "output_type": "stream",
          "text": [
            "{'python': 3.8, 'b': 10, 8: {8, 10, 4}}\n"
          ]
        }
      ],
      "source": [
        "print(d)"
      ]
    },
    {
      "cell_type": "code",
      "execution_count": null,
      "id": "7a8dd707",
      "metadata": {
        "id": "7a8dd707",
        "outputId": "0147ced7-f9ad-4b28-92f2-5715a8e98c19"
      },
      "outputs": [
        {
          "data": {
            "text/plain": [
              "dict"
            ]
          },
          "execution_count": 48,
          "metadata": {},
          "output_type": "execute_result"
        }
      ],
      "source": [
        "type(d)"
      ]
    },
    {
      "cell_type": "markdown",
      "id": "c9563d19",
      "metadata": {
        "id": "c9563d19"
      },
      "source": [
        "# User input"
      ]
    },
    {
      "cell_type": "code",
      "execution_count": null,
      "id": "2e417d46",
      "metadata": {
        "id": "2e417d46",
        "outputId": "683ccf58-7d01-4eb4-a59f-ad284f4da4e9"
      },
      "outputs": [
        {
          "name": "stdout",
          "output_type": "stream",
          "text": [
            "Hii, what is ur name?python\n"
          ]
        }
      ],
      "source": [
        "# input() : used to take input from the user\n",
        "name = input(\"Hii, what is ur name?\")"
      ]
    },
    {
      "cell_type": "code",
      "execution_count": null,
      "id": "1302f3b4",
      "metadata": {
        "id": "1302f3b4",
        "outputId": "e87719a5-048c-45f5-9e31-33cb4ccc4402"
      },
      "outputs": [
        {
          "name": "stdout",
          "output_type": "stream",
          "text": [
            "python\n"
          ]
        }
      ],
      "source": [
        "print(name)"
      ]
    },
    {
      "cell_type": "code",
      "execution_count": null,
      "id": "adea6776",
      "metadata": {
        "id": "adea6776",
        "outputId": "4cf33cf6-6fe6-4f3e-e24d-1af9ae485d51"
      },
      "outputs": [
        {
          "data": {
            "text/plain": [
              "str"
            ]
          },
          "execution_count": 52,
          "metadata": {},
          "output_type": "execute_result"
        }
      ],
      "source": [
        "type(name)"
      ]
    },
    {
      "cell_type": "code",
      "execution_count": null,
      "id": "8f9e016f",
      "metadata": {
        "id": "8f9e016f",
        "outputId": "512eee4a-b615-4cff-c4bb-44da703fd633"
      },
      "outputs": [
        {
          "name": "stdout",
          "output_type": "stream",
          "text": [
            "tell me your age : 25\n"
          ]
        }
      ],
      "source": [
        "age = input(\"tell me your age : \")"
      ]
    },
    {
      "cell_type": "code",
      "execution_count": null,
      "id": "ab77ce81",
      "metadata": {
        "id": "ab77ce81",
        "outputId": "04c3cf78-0938-4e4b-c565-771342921557"
      },
      "outputs": [
        {
          "name": "stdout",
          "output_type": "stream",
          "text": [
            "25\n"
          ]
        }
      ],
      "source": [
        "print(age)"
      ]
    },
    {
      "cell_type": "code",
      "execution_count": null,
      "id": "6f9bc260",
      "metadata": {
        "id": "6f9bc260",
        "outputId": "b92f6b96-e411-4f4c-aba5-c6587bba75bc"
      },
      "outputs": [
        {
          "data": {
            "text/plain": [
              "str"
            ]
          },
          "execution_count": 55,
          "metadata": {},
          "output_type": "execute_result"
        }
      ],
      "source": [
        "type(age)"
      ]
    },
    {
      "cell_type": "code",
      "execution_count": null,
      "id": "860fa5db",
      "metadata": {
        "id": "860fa5db",
        "outputId": "e856420f-348f-4870-d768-b24671a456a8"
      },
      "outputs": [
        {
          "name": "stdout",
          "output_type": "stream",
          "text": [
            "tell me your age : 25\n"
          ]
        }
      ],
      "source": [
        "age = int(input(\"tell me your age : \"))"
      ]
    },
    {
      "cell_type": "code",
      "execution_count": null,
      "id": "6cf92904",
      "metadata": {
        "id": "6cf92904",
        "outputId": "f5e01e63-f1ed-4062-f3fd-4ec9e1ab6dba"
      },
      "outputs": [
        {
          "data": {
            "text/plain": [
              "int"
            ]
          },
          "execution_count": 57,
          "metadata": {},
          "output_type": "execute_result"
        }
      ],
      "source": [
        "type(age)"
      ]
    },
    {
      "cell_type": "code",
      "execution_count": null,
      "id": "0a011b7c",
      "metadata": {
        "id": "0a011b7c",
        "outputId": "91b1ed13-6c44-4ca2-82c0-5d7b8292d650"
      },
      "outputs": [
        {
          "name": "stdout",
          "output_type": "stream",
          "text": [
            "3.14 3\n"
          ]
        }
      ],
      "source": [
        "print(3.14, int(3.14))"
      ]
    },
    {
      "cell_type": "code",
      "execution_count": null,
      "id": "8bceb061",
      "metadata": {
        "id": "8bceb061",
        "outputId": "d7f1dc4c-057c-4c56-cb16-c6c8e8d1aadc"
      },
      "outputs": [
        {
          "name": "stdout",
          "output_type": "stream",
          "text": [
            "9 9.0\n"
          ]
        }
      ],
      "source": [
        "print(9, float(9))"
      ]
    },
    {
      "cell_type": "markdown",
      "id": "e4d31786",
      "metadata": {
        "id": "e4d31786"
      },
      "source": [
        "# Task"
      ]
    },
    {
      "cell_type": "markdown",
      "id": "1a8c31b0",
      "metadata": {
        "id": "1a8c31b0"
      },
      "source": [
        "1) write a python program to save following data in variable (any variable that you want):\n",
        "\n",
        "* name, weight, height, 12th marks, any boolian condition\n",
        "* print every variable\n",
        "* check data type of each variable\n",
        "\n",
        "2) write a python program to take input from user for your mobile number and check data type"
      ]
    },
    {
      "cell_type": "code",
      "execution_count": null,
      "id": "6c4a2326",
      "metadata": {
        "id": "6c4a2326",
        "outputId": "3ae8f38e-8b92-438c-9c94-2bace67346bd"
      },
      "outputs": [
        {
          "name": "stdout",
          "output_type": "stream",
          "text": [
            "Somesh\n",
            "70\n",
            "{'Phy': 95, 'Maths': 100, 'eng': 90}\n",
            "False\n"
          ]
        }
      ],
      "source": [
        "name=\"Somesh\"\n",
        "weight=70\n",
        "height=180\n",
        "_12marks ={\"Phy\":95,\"Maths\":100,\"eng\":90}\n",
        "condition=1>100\n",
        "print(name)\n",
        "print(weight)\n",
        "print(_12marks)\n",
        "print(condition)"
      ]
    },
    {
      "cell_type": "code",
      "execution_count": null,
      "id": "848023ab",
      "metadata": {
        "id": "848023ab",
        "outputId": "b64f569f-4282-408e-8441-929dee71bfe2"
      },
      "outputs": [
        {
          "data": {
            "text/plain": [
              "str"
            ]
          },
          "execution_count": 61,
          "metadata": {},
          "output_type": "execute_result"
        }
      ],
      "source": [
        "type(name)"
      ]
    },
    {
      "cell_type": "code",
      "execution_count": null,
      "id": "1461efba",
      "metadata": {
        "id": "1461efba",
        "outputId": "7a0f5304-a7e0-4702-a1c0-9ea1927ee097"
      },
      "outputs": [
        {
          "name": "stdout",
          "output_type": "stream",
          "text": [
            "<class 'int'> <class 'dict'>\n"
          ]
        }
      ],
      "source": [
        "print(type(weight), type(_12marks))"
      ]
    },
    {
      "cell_type": "code",
      "execution_count": null,
      "id": "4b75f5dc",
      "metadata": {
        "id": "4b75f5dc",
        "outputId": "972531c8-f1fd-47a9-eec9-c43eff2fc0bd"
      },
      "outputs": [
        {
          "data": {
            "text/plain": [
              "bool"
            ]
          },
          "execution_count": 63,
          "metadata": {},
          "output_type": "execute_result"
        }
      ],
      "source": [
        "type(condition)"
      ]
    },
    {
      "cell_type": "code",
      "execution_count": null,
      "id": "b3945bb3",
      "metadata": {
        "id": "b3945bb3",
        "outputId": "919f0b9f-d7f9-4da9-f187-9225993fa1db"
      },
      "outputs": [
        {
          "name": "stdout",
          "output_type": "stream",
          "text": [
            "Enter ur mobile number : 9999999999\n"
          ]
        },
        {
          "data": {
            "text/plain": [
              "str"
            ]
          },
          "execution_count": 64,
          "metadata": {},
          "output_type": "execute_result"
        }
      ],
      "source": [
        "mobno = input(\"Enter ur mobile number : \")\n",
        "type(mobno)"
      ]
    },
    {
      "cell_type": "markdown",
      "id": "415c89d7",
      "metadata": {
        "id": "415c89d7"
      },
      "source": [
        "# Operators"
      ]
    },
    {
      "cell_type": "markdown",
      "id": "3b516670",
      "metadata": {
        "id": "3b516670"
      },
      "source": [
        "### Arithematic operators"
      ]
    },
    {
      "cell_type": "code",
      "execution_count": null,
      "id": "9f67c9a1",
      "metadata": {
        "id": "9f67c9a1"
      },
      "outputs": [],
      "source": [
        "x = 15\n",
        "y = 4"
      ]
    },
    {
      "cell_type": "code",
      "execution_count": null,
      "id": "4283c4bf",
      "metadata": {
        "id": "4283c4bf",
        "outputId": "9bca347b-61b3-4f8d-cf6f-e688c3a722ee"
      },
      "outputs": [
        {
          "name": "stdout",
          "output_type": "stream",
          "text": [
            "19\n"
          ]
        }
      ],
      "source": [
        "#Addition\n",
        "ad = x+y\n",
        "print(ad)"
      ]
    },
    {
      "cell_type": "code",
      "execution_count": null,
      "id": "bb42223f",
      "metadata": {
        "id": "bb42223f",
        "outputId": "53600b4e-847e-4870-b0a9-cbfc510d0985"
      },
      "outputs": [
        {
          "name": "stdout",
          "output_type": "stream",
          "text": [
            "11\n"
          ]
        }
      ],
      "source": [
        "#subtraction\n",
        "sub=x-y\n",
        "print(sub)"
      ]
    },
    {
      "cell_type": "code",
      "execution_count": null,
      "id": "1526a816",
      "metadata": {
        "id": "1526a816",
        "outputId": "96a99214-6a5d-49e0-fa3b-66d79a859d70"
      },
      "outputs": [
        {
          "name": "stdout",
          "output_type": "stream",
          "text": [
            "60\n"
          ]
        }
      ],
      "source": [
        "#Multiplication\n",
        "mul = x*y\n",
        "print(mul)"
      ]
    },
    {
      "cell_type": "code",
      "execution_count": null,
      "id": "cfcf1d99",
      "metadata": {
        "id": "cfcf1d99",
        "outputId": "9b4a6f5c-bd66-4482-8376-a789b858b1b7"
      },
      "outputs": [
        {
          "name": "stdout",
          "output_type": "stream",
          "text": [
            "3.75\n"
          ]
        }
      ],
      "source": [
        "#Division\n",
        "div= x/y\n",
        "print(div)"
      ]
    },
    {
      "cell_type": "code",
      "execution_count": null,
      "id": "8641de30",
      "metadata": {
        "id": "8641de30",
        "outputId": "66bee13a-9c59-4a91-8e9b-f48e1042d9f2"
      },
      "outputs": [
        {
          "name": "stdout",
          "output_type": "stream",
          "text": [
            "3\n"
          ]
        }
      ],
      "source": [
        "#Floor division\n",
        "floor_div = x//y\n",
        "print(floor_div)"
      ]
    },
    {
      "cell_type": "code",
      "execution_count": null,
      "id": "f11a3d9b",
      "metadata": {
        "id": "f11a3d9b",
        "outputId": "1da98c6c-d512-4811-ade5-aca7ec3701b4"
      },
      "outputs": [
        {
          "name": "stdout",
          "output_type": "stream",
          "text": [
            "3\n"
          ]
        }
      ],
      "source": [
        "# Modulus division(Remainder)\n",
        "mod_div = x%y\n",
        "print(mod_div)"
      ]
    },
    {
      "cell_type": "code",
      "execution_count": null,
      "id": "9fcfa20b",
      "metadata": {
        "id": "9fcfa20b",
        "outputId": "a2eb7047-7157-4967-cdf7-dd4f2236031f"
      },
      "outputs": [
        {
          "name": "stdout",
          "output_type": "stream",
          "text": [
            "9\n"
          ]
        }
      ],
      "source": [
        "#power\n",
        "a = 3\n",
        "b = 2\n",
        "print(a**b)"
      ]
    },
    {
      "cell_type": "markdown",
      "id": "bdc3a8c4",
      "metadata": {
        "id": "bdc3a8c4"
      },
      "source": [
        "## identity operators"
      ]
    },
    {
      "cell_type": "code",
      "execution_count": null,
      "id": "6a6acfb2",
      "metadata": {
        "id": "6a6acfb2"
      },
      "outputs": [],
      "source": [
        "x1=5\n",
        "y1=5\n",
        "x2=\"hello world\"\n",
        "y2=\"hello India\""
      ]
    },
    {
      "cell_type": "code",
      "execution_count": null,
      "id": "8aa1b83c",
      "metadata": {
        "id": "8aa1b83c",
        "outputId": "5b9f107a-fb2e-46ba-9447-c034aabf6dbb"
      },
      "outputs": [
        {
          "data": {
            "text/plain": [
              "True"
            ]
          },
          "execution_count": 78,
          "metadata": {},
          "output_type": "execute_result"
        }
      ],
      "source": [
        "# is : returns true if both the operands are same\n",
        "x1 is y1"
      ]
    },
    {
      "cell_type": "code",
      "execution_count": null,
      "id": "8093c194",
      "metadata": {
        "id": "8093c194",
        "outputId": "f314f8e1-b907-4e49-8655-7c33901cc5fa"
      },
      "outputs": [
        {
          "data": {
            "text/plain": [
              "140726399570856"
            ]
          },
          "execution_count": 81,
          "metadata": {},
          "output_type": "execute_result"
        }
      ],
      "source": [
        "id(x1)"
      ]
    },
    {
      "cell_type": "code",
      "execution_count": null,
      "id": "15ea36b1",
      "metadata": {
        "id": "15ea36b1",
        "outputId": "30def5b9-70d3-4a58-a23e-3062cc13b187"
      },
      "outputs": [
        {
          "data": {
            "text/plain": [
              "140726399570856"
            ]
          },
          "execution_count": 82,
          "metadata": {},
          "output_type": "execute_result"
        }
      ],
      "source": [
        "id(y1)"
      ]
    },
    {
      "cell_type": "code",
      "execution_count": null,
      "id": "a464bfc2",
      "metadata": {
        "id": "a464bfc2",
        "outputId": "73b2e535-2203-43d5-a271-54a687ffe405"
      },
      "outputs": [
        {
          "data": {
            "text/plain": [
              "True"
            ]
          },
          "execution_count": 83,
          "metadata": {},
          "output_type": "execute_result"
        }
      ],
      "source": [
        "# is not : returns true if the operands are not same\n",
        "x2 is not y2"
      ]
    },
    {
      "cell_type": "code",
      "execution_count": null,
      "id": "7325b7f6",
      "metadata": {
        "id": "7325b7f6",
        "outputId": "bb5a7602-a2ee-4318-8eb3-2396a74f13f6"
      },
      "outputs": [
        {
          "data": {
            "text/plain": [
              "1672458458800"
            ]
          },
          "execution_count": 84,
          "metadata": {},
          "output_type": "execute_result"
        }
      ],
      "source": [
        "id(x2)"
      ]
    },
    {
      "cell_type": "code",
      "execution_count": null,
      "id": "92b45a1b",
      "metadata": {
        "id": "92b45a1b",
        "outputId": "f3596f77-7f28-4970-d250-8d6a03a1fe07"
      },
      "outputs": [
        {
          "data": {
            "text/plain": [
              "1672458857328"
            ]
          },
          "execution_count": 85,
          "metadata": {},
          "output_type": "execute_result"
        }
      ],
      "source": [
        "id(y2)"
      ]
    },
    {
      "cell_type": "markdown",
      "id": "a8d5962c",
      "metadata": {
        "id": "a8d5962c"
      },
      "source": [
        "# membership operator"
      ]
    },
    {
      "cell_type": "code",
      "execution_count": null,
      "id": "af592867",
      "metadata": {
        "id": "af592867"
      },
      "outputs": [],
      "source": [
        "x = \"I am a coder\""
      ]
    },
    {
      "cell_type": "code",
      "execution_count": null,
      "id": "1f200711",
      "metadata": {
        "id": "1f200711",
        "outputId": "57ac4245-1a41-4893-f1b3-8a2997864453"
      },
      "outputs": [
        {
          "data": {
            "text/plain": [
              "False"
            ]
          },
          "execution_count": 87,
          "metadata": {},
          "output_type": "execute_result"
        }
      ],
      "source": [
        "# in : returns true if a sequence with specified\n",
        "#     value is present in the object\n",
        "\n",
        "'H' in x"
      ]
    },
    {
      "cell_type": "code",
      "execution_count": null,
      "id": "b49d315d",
      "metadata": {
        "id": "b49d315d",
        "outputId": "691bd6e8-f13e-4806-e644-2d2131ef2234"
      },
      "outputs": [
        {
          "data": {
            "text/plain": [
              "True"
            ]
          },
          "execution_count": 89,
          "metadata": {},
          "output_type": "execute_result"
        }
      ],
      "source": [
        "'am' in x"
      ]
    },
    {
      "cell_type": "code",
      "execution_count": null,
      "id": "38dae6f6",
      "metadata": {
        "id": "38dae6f6",
        "outputId": "154f2406-5032-4288-c566-54dbb0fc938b"
      },
      "outputs": [
        {
          "data": {
            "text/plain": [
              "True"
            ]
          },
          "execution_count": 90,
          "metadata": {},
          "output_type": "execute_result"
        }
      ],
      "source": [
        "d = {1:'a',2:'b'}\n",
        "1 in d"
      ]
    },
    {
      "cell_type": "code",
      "execution_count": null,
      "id": "a432638f",
      "metadata": {
        "id": "a432638f"
      },
      "outputs": [],
      "source": [
        "# not in\n",
        "l = [1,2,3]"
      ]
    },
    {
      "cell_type": "code",
      "execution_count": null,
      "id": "5ba4ee18",
      "metadata": {
        "id": "5ba4ee18",
        "outputId": "fc4c4ffa-dc61-4780-89ea-696920061e8a"
      },
      "outputs": [
        {
          "data": {
            "text/plain": [
              "False"
            ]
          },
          "execution_count": 93,
          "metadata": {},
          "output_type": "execute_result"
        }
      ],
      "source": [
        "3 not in l"
      ]
    },
    {
      "cell_type": "code",
      "execution_count": null,
      "id": "9a0e764e",
      "metadata": {
        "id": "9a0e764e",
        "outputId": "cec97471-0c62-455c-c81c-8b4e95a5e58d"
      },
      "outputs": [
        {
          "data": {
            "text/plain": [
              "True"
            ]
          },
          "execution_count": 94,
          "metadata": {},
          "output_type": "execute_result"
        }
      ],
      "source": [
        "6 not in l"
      ]
    },
    {
      "cell_type": "markdown",
      "id": "809955db",
      "metadata": {
        "id": "809955db"
      },
      "source": [
        "### Relational Operators"
      ]
    },
    {
      "cell_type": "code",
      "execution_count": null,
      "id": "9ac6fa08",
      "metadata": {
        "id": "9ac6fa08",
        "outputId": "49024965-633e-4787-9018-ab8ecef7b702"
      },
      "outputs": [
        {
          "data": {
            "text/plain": [
              "False"
            ]
          },
          "execution_count": 95,
          "metadata": {},
          "output_type": "execute_result"
        }
      ],
      "source": [
        "# equal to\n",
        "1==2"
      ]
    },
    {
      "cell_type": "code",
      "execution_count": null,
      "id": "c3bb2c0e",
      "metadata": {
        "id": "c3bb2c0e",
        "outputId": "9e265555-1ffd-4373-dba1-5e8699a09aa9"
      },
      "outputs": [
        {
          "data": {
            "text/plain": [
              "True"
            ]
          },
          "execution_count": 96,
          "metadata": {},
          "output_type": "execute_result"
        }
      ],
      "source": [
        "2==2"
      ]
    },
    {
      "cell_type": "code",
      "execution_count": null,
      "id": "723271a6",
      "metadata": {
        "id": "723271a6",
        "outputId": "ea53fed3-9701-4cf3-8d32-0bd86f211f6f"
      },
      "outputs": [
        {
          "data": {
            "text/plain": [
              "True"
            ]
          },
          "execution_count": 97,
          "metadata": {},
          "output_type": "execute_result"
        }
      ],
      "source": [
        "# not equal to\n",
        "5!=6"
      ]
    },
    {
      "cell_type": "code",
      "execution_count": null,
      "id": "5ff444b9",
      "metadata": {
        "id": "5ff444b9",
        "outputId": "c77fe91e-d8da-452d-ceed-110e04b5e90d"
      },
      "outputs": [
        {
          "data": {
            "text/plain": [
              "False"
            ]
          },
          "execution_count": 98,
          "metadata": {},
          "output_type": "execute_result"
        }
      ],
      "source": [
        "5!=5"
      ]
    },
    {
      "cell_type": "code",
      "execution_count": null,
      "id": "7b651cd6",
      "metadata": {
        "id": "7b651cd6",
        "outputId": "c03d7f55-38f5-4d97-f7eb-433bab971292"
      },
      "outputs": [
        {
          "data": {
            "text/plain": [
              "True"
            ]
          },
          "execution_count": 99,
          "metadata": {},
          "output_type": "execute_result"
        }
      ],
      "source": [
        "#less than\n",
        "6<7"
      ]
    },
    {
      "cell_type": "code",
      "execution_count": null,
      "id": "50845d0e",
      "metadata": {
        "id": "50845d0e",
        "outputId": "7a40ab2d-b283-4ee1-dfe3-24b649b89de7"
      },
      "outputs": [
        {
          "data": {
            "text/plain": [
              "False"
            ]
          },
          "execution_count": 100,
          "metadata": {},
          "output_type": "execute_result"
        }
      ],
      "source": [
        "#greater than\n",
        "18>400"
      ]
    },
    {
      "cell_type": "code",
      "execution_count": null,
      "id": "8b847e18",
      "metadata": {
        "id": "8b847e18",
        "outputId": "cb335c47-3aef-4de8-fcaa-04ef7dff0a3c"
      },
      "outputs": [
        {
          "data": {
            "text/plain": [
              "True"
            ]
          },
          "execution_count": 101,
          "metadata": {},
          "output_type": "execute_result"
        }
      ],
      "source": [
        "# less than equal to\n",
        "8<=10"
      ]
    },
    {
      "cell_type": "code",
      "execution_count": null,
      "id": "99d785a4",
      "metadata": {
        "id": "99d785a4",
        "outputId": "f63cad15-7837-4cdd-cf93-916990a2027e"
      },
      "outputs": [
        {
          "data": {
            "text/plain": [
              "True"
            ]
          },
          "execution_count": 102,
          "metadata": {},
          "output_type": "execute_result"
        }
      ],
      "source": [
        "# greater than equal to\n",
        "800>=500"
      ]
    },
    {
      "cell_type": "code",
      "execution_count": null,
      "id": "d8666a50",
      "metadata": {
        "id": "d8666a50",
        "outputId": "fa497e40-c8ac-46f9-8ec8-3ad6e6244026"
      },
      "outputs": [
        {
          "data": {
            "text/plain": [
              "False"
            ]
          },
          "execution_count": 103,
          "metadata": {},
          "output_type": "execute_result"
        }
      ],
      "source": [
        "7>=16"
      ]
    },
    {
      "cell_type": "markdown",
      "id": "6ccb49b1",
      "metadata": {
        "id": "6ccb49b1"
      },
      "source": [
        "# Assignment Operators"
      ]
    },
    {
      "cell_type": "code",
      "execution_count": null,
      "id": "07f92590",
      "metadata": {
        "id": "07f92590"
      },
      "outputs": [],
      "source": [
        "a=4"
      ]
    },
    {
      "cell_type": "code",
      "execution_count": null,
      "id": "89385895",
      "metadata": {
        "id": "89385895"
      },
      "outputs": [],
      "source": [
        "# assign add\n",
        "a+=2 # a=a+2"
      ]
    },
    {
      "cell_type": "code",
      "execution_count": null,
      "id": "c1b3cf14",
      "metadata": {
        "id": "c1b3cf14",
        "outputId": "f8bf6464-6ac9-40f9-8544-14cc54c1f287"
      },
      "outputs": [
        {
          "data": {
            "text/plain": [
              "6"
            ]
          },
          "execution_count": 106,
          "metadata": {},
          "output_type": "execute_result"
        }
      ],
      "source": [
        "a"
      ]
    },
    {
      "cell_type": "code",
      "execution_count": null,
      "id": "16a7bd33",
      "metadata": {
        "id": "16a7bd33",
        "outputId": "f506666a-b25a-4be7-e424-ab184a0e906c"
      },
      "outputs": [
        {
          "name": "stdout",
          "output_type": "stream",
          "text": [
            "15\n"
          ]
        }
      ],
      "source": [
        "# assign sub -=\n",
        "b=20\n",
        "b-=5\n",
        "print(b) # internally b=b-5"
      ]
    },
    {
      "cell_type": "code",
      "execution_count": null,
      "id": "413f7815",
      "metadata": {
        "id": "413f7815",
        "outputId": "cd819062-5442-4bcc-c90c-3a92edac53fa"
      },
      "outputs": [
        {
          "name": "stdout",
          "output_type": "stream",
          "text": [
            "32\n"
          ]
        }
      ],
      "source": [
        "#assign multiply *=\n",
        "c=8\n",
        "c*=4\n",
        "print(c)"
      ]
    },
    {
      "cell_type": "code",
      "execution_count": null,
      "id": "8f3d5793",
      "metadata": {
        "id": "8f3d5793",
        "outputId": "8c695ae3-26c8-44f4-bfd7-ef5c5de59757"
      },
      "outputs": [
        {
          "name": "stdout",
          "output_type": "stream",
          "text": [
            "3.75\n"
          ]
        }
      ],
      "source": [
        "#assign float division\n",
        "d=15\n",
        "d/=4 # d=d/4\n",
        "print(d)"
      ]
    },
    {
      "cell_type": "code",
      "execution_count": null,
      "id": "371444cf",
      "metadata": {
        "id": "371444cf",
        "outputId": "dafba39b-d89b-40e5-b3e2-43db0aba3428"
      },
      "outputs": [
        {
          "name": "stdout",
          "output_type": "stream",
          "text": [
            "2\n"
          ]
        }
      ],
      "source": [
        "# assign floor division\n",
        "e=15\n",
        "e//=6 #\n",
        "print(e)"
      ]
    },
    {
      "cell_type": "code",
      "execution_count": null,
      "id": "0e3a97ab",
      "metadata": {
        "id": "0e3a97ab",
        "outputId": "1e09d215-46a4-48fe-d4b2-048387866d69"
      },
      "outputs": [
        {
          "name": "stdout",
          "output_type": "stream",
          "text": [
            "3\n"
          ]
        }
      ],
      "source": [
        "# assign modulus division\n",
        "f=15\n",
        "f%=6\n",
        "print(f)"
      ]
    },
    {
      "cell_type": "markdown",
      "id": "54be1404",
      "metadata": {
        "id": "54be1404"
      },
      "source": [
        "### logical operators"
      ]
    },
    {
      "cell_type": "code",
      "execution_count": null,
      "id": "d6ce7485",
      "metadata": {
        "id": "d6ce7485"
      },
      "outputs": [],
      "source": [
        "m = True\n",
        "n = False"
      ]
    },
    {
      "cell_type": "code",
      "execution_count": null,
      "id": "5add50ca",
      "metadata": {
        "id": "5add50ca"
      },
      "outputs": [],
      "source": [
        "# And Operator : and\n",
        "# T T = T\n",
        "# T F = F\n",
        "# F T = F\n",
        "# F F = F"
      ]
    },
    {
      "cell_type": "code",
      "execution_count": null,
      "id": "b8c08001",
      "metadata": {
        "id": "b8c08001",
        "outputId": "0f131eb3-d6ac-461e-9a66-66bdcd8570b5"
      },
      "outputs": [
        {
          "name": "stdout",
          "output_type": "stream",
          "text": [
            "False\n"
          ]
        }
      ],
      "source": [
        "print(m and n)"
      ]
    },
    {
      "cell_type": "markdown",
      "id": "8588b093",
      "metadata": {
        "id": "8588b093"
      },
      "source": [
        "# OR operator"
      ]
    },
    {
      "cell_type": "code",
      "execution_count": null,
      "id": "7c07eb27",
      "metadata": {
        "id": "7c07eb27"
      },
      "outputs": [],
      "source": [
        "# synatax:or\n",
        "# T T = T\n",
        "# F T = T\n",
        "# T F =T\n",
        "# F F = F"
      ]
    },
    {
      "cell_type": "code",
      "execution_count": null,
      "id": "d74db2d0",
      "metadata": {
        "id": "d74db2d0",
        "outputId": "deaa1d44-0907-4afa-b954-c37425812ed7"
      },
      "outputs": [
        {
          "name": "stdout",
          "output_type": "stream",
          "text": [
            "True\n"
          ]
        }
      ],
      "source": [
        "print(m or n)"
      ]
    },
    {
      "cell_type": "code",
      "execution_count": null,
      "id": "82c5d841",
      "metadata": {
        "id": "82c5d841",
        "outputId": "e13c8965-6120-48fc-b575-538c40cc0d81"
      },
      "outputs": [
        {
          "name": "stdout",
          "output_type": "stream",
          "text": [
            "False\n"
          ]
        }
      ],
      "source": [
        "# not\n",
        "print(not m)"
      ]
    },
    {
      "cell_type": "code",
      "execution_count": null,
      "id": "eb8ed6bb",
      "metadata": {
        "id": "eb8ed6bb"
      },
      "outputs": [],
      "source": []
    }
  ],
  "metadata": {
    "kernelspec": {
      "display_name": "Python 3 (ipykernel)",
      "language": "python",
      "name": "python3"
    },
    "language_info": {
      "codemirror_mode": {
        "name": "ipython",
        "version": 3
      },
      "file_extension": ".py",
      "mimetype": "text/x-python",
      "name": "python",
      "nbconvert_exporter": "python",
      "pygments_lexer": "ipython3",
      "version": "3.11.5"
    },
    "colab": {
      "provenance": [],
      "include_colab_link": true
    }
  },
  "nbformat": 4,
  "nbformat_minor": 5
}